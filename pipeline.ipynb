{
 "cells": [
  {
   "cell_type": "code",
   "execution_count": 2,
   "id": "9eabd490-0121-406f-b6a5-4e1ec9946cce",
   "metadata": {},
   "outputs": [],
   "source": [
    "from functions_py import convert_to_polar, polar_conversion, func_def, fourier_coef_calc, get_label, img_plot, polar_conversion_fast, get_label_fast\n",
    "from functions_py import pipeline_train, batch_get_labels, optimized_test_class_alg\n",
    "from functions_py import optimized_func_def, optimized_fourier_coef_calc\n",
    "from functions_py import qwen_pipeline_train, qwen_optimized_test_class_alg, qwen_optimized_func_def, qwen_optimized_fourier_coef_calc, qwen_polar_conversion_fast\n",
    "from functions_py import run_hyperparameter_optimization\n",
    "import optuna\n",
    "import numpy as np\n",
    "import pandas as pd\n",
    "import matplotlib.pyplot as plt\n",
    "from sklearn.model_selection import train_test_split\n",
    "import os\n",
    "from numba import njit\n",
    "from scipy.spatial.distance import cdist\n",
    "\n",
    "\n",
    "import numpy as np\n",
    "import pandas as pd\n",
    "import matplotlib.pyplot as plt\n",
    "%matplotlib inline\n",
    "from sklearn.model_selection import train_test_split\n",
    "import os\n",
    "\n",
    "# Функции предобработки\n",
    "def transform_pixels_to_sums_vectorized(df):\n",
    "    # Создаем копию исходного DataFrame\n",
    "    result_df = df[['label']].copy()\n",
    "    \n",
    "    # Получаем все пиксельные колонки\n",
    "    pixel_cols = [f'pixel{i}' for i in range(784)]\n",
    "    pixels = df[pixel_cols].values\n",
    "    \n",
    "    # Преобразуем в 3D массив (n_images, 28, 28)\n",
    "    images = pixels.reshape(-1, 28, 28)\n",
    "    \n",
    "    # Суммы по строкам (axis=2 - сумма по столбцам в каждом ряду)\n",
    "    row_sums = images.sum(axis=2)\n",
    "    \n",
    "    # Суммы по столбцам (axis=1 - сумма по рядам в каждом столбце)\n",
    "    col_sums = images.sum(axis=1)\n",
    "    \n",
    "    # Добавляем суммы в DataFrame\n",
    "    for i in range(28):\n",
    "        result_df[f'sum_row{i}'] = row_sums[:, i] / 28\n",
    "    for i in range(28):\n",
    "        result_df[f'sum_column{i}'] = col_sums[:, i] / 28\n",
    "    \n",
    "    return result_df\n",
    "\n",
    "# вычисление аккураси\n",
    "def test_train_class(predobr_func, D, M, T):\n",
    "    base = ''\n",
    "    input_data = pd.read_csv(base + 'train.csv')\n",
    "    conversion_state = True\n",
    "    write_state = False\n",
    "    state = 148\n",
    "    target = 'label'\n",
    "    data_with_labels = predobr_func(input_data)\n",
    "    \n",
    "    t_coef = T\n",
    "\n",
    "    \n",
    "    data_train, data_test, data_train_means, fourier_coef = qwen_pipeline_train(data_with_labels, target, state, conversion_state, write_state, D, M)\n",
    "    print('train acc')\n",
    "    accuracy = qwen_optimized_test_class_alg(target,data_train , data_train, data_train_means, fourier_coef, t_coef, rewrite = True)\n",
    "    print(accuracy)\n",
    "    print('test acc')\n",
    "    accuracy = qwen_optimized_test_class_alg(target,data_test , data_train, data_train_means, fourier_coef, t_coef, rewrite = True)\n",
    "    print(accuracy)\n",
    "    return data_train, data_test, data_train_means, fourier_coef"
   ]
  },
  {
   "cell_type": "code",
   "execution_count": 3,
   "id": "afd37efe-2eb3-4b90-a080-7f019adda94b",
   "metadata": {},
   "outputs": [
    {
     "name": "stdout",
     "output_type": "stream",
     "text": [
      "train acc\n",
      "0.712544420753376\n",
      "test acc\n",
      "0.6932178932178932\n"
     ]
    }
   ],
   "source": [
    "data_train, data_test, data_train_means, fourier_coef = test_train_class(transform_pixels_to_sums_vectorized, 13983, 29, 1.5847369)"
   ]
  },
  {
   "cell_type": "code",
   "execution_count": 4,
   "id": "5d79dd14",
   "metadata": {},
   "outputs": [
    {
     "name": "stdout",
     "output_type": "stream",
     "text": [
      "[37.5, 39.29, 48.21, 48.21, 35.71, 44.64, 41.07, 41.07, 42.86, 35.71]\n",
      "[2]\n"
     ]
    }
   ],
   "source": [
    "import numpy as np\n",
    "import pandas as pd\n",
    "import matplotlib.pyplot as plt\n",
    "%matplotlib inline\n",
    "from sklearn.base import ClassifierMixin\n",
    "from sklearn.model_selection import train_test_split\n",
    "\n",
    "#вывод изображения\n",
    "def img_plot(img):\n",
    "  plt.figure(figsize=(7,7))\n",
    "\n",
    "  grid_data = img.values.reshape(28,28)\n",
    "  plt.imshow(grid_data,interpolation= \"none\" , cmap=\"gray\")\n",
    "  plt.show()\n",
    "\n",
    "\n",
    "base = ''\n",
    "input_data = pd.read_csv(base + 'train.csv')\n",
    "state = 148\n",
    "target = 'label'\n",
    "temp_train, temp_test = train_test_split(input_data, stratify=input_data[target], test_size=0.33, random_state=state) \n",
    "\n",
    "idx = 3\n",
    "image = temp_test.iloc[idx:idx+1]\n",
    "# img_plot(image.drop(columns=[target]))\n",
    "t = 1.5847369\n",
    "img_transformed = transform_pixels_to_sums_vectorized(image).drop(columns=[target]).values\n",
    "res = batch_get_labels(\n",
    "        target, data_train, data_train_means, fourier_coef, img_transformed, t, is_labeled = False\n",
    "    )\n",
    "\n",
    "dolya = res / 56 * 100\n",
    "print([round(x, 2) for x in dolya[0]])\n",
    "print(np.argmax(res, axis=1))\n"
   ]
  },
  {
   "cell_type": "code",
   "execution_count": 31,
   "id": "03e7d0a2-dee4-459d-b76e-63b8ddcba7ab",
   "metadata": {},
   "outputs": [
    {
     "name": "stdout",
     "output_type": "stream",
     "text": [
      "\u001b[1m1/1\u001b[0m \u001b[32m━━━━━━━━━━━━━━━━━━━━\u001b[0m\u001b[37m\u001b[0m \u001b[1m0s\u001b[0m 24ms/step\n",
      "[[99.99821472167969, 8.317831779594177e-21, 8.072601254127676e-09, 5.578918471399637e-14, 7.783363363544904e-12, 2.3757544909130957e-07, 2.990961298077188e-11, 3.6889137179827954e-16, 0.0017880876548588276, 9.18854770048938e-09]]\n",
      "0\n"
     ]
    }
   ],
   "source": [
    "from train_test import rec_digit\n",
    "tmpdd = image.drop(columns=[target]).values.reshape(28,28)\n",
    "tmpdd = np.uint8(tmpdd)\n",
    "# print(image.drop(columns=[target]).values.reshape(28,28).shape)\n",
    "\n",
    "res = rec_digit(tmpdd)\n",
    "print((res * 100).tolist())\n",
    "print(int(res.argmax()))"
   ]
  }
 ],
 "metadata": {
  "kernelspec": {
   "display_name": "Python 3",
   "language": "python",
   "name": "python3"
  },
  "language_info": {
   "codemirror_mode": {
    "name": "ipython",
    "version": 3
   },
   "file_extension": ".py",
   "mimetype": "text/x-python",
   "name": "python",
   "nbconvert_exporter": "python",
   "pygments_lexer": "ipython3",
   "version": "3.12.7"
  }
 },
 "nbformat": 4,
 "nbformat_minor": 5
}
